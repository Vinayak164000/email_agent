{
 "cells": [
  {
   "cell_type": "code",
   "execution_count": null,
   "id": "a1006c27",
   "metadata": {},
   "outputs": [],
   "source": [
    "import os\n",
    "from langchain.chat_models import  init_chat_model\n",
    "import getpass\n",
    "os.environ[\"GOOGLE_API_KEY\"] = \"\"\n",
    "llm = init_chat_model(\"google_genai:gemini-2.0-flash\")"
   ]
  },
  {
   "cell_type": "code",
   "execution_count": 2,
   "id": "69bc839a",
   "metadata": {},
   "outputs": [],
   "source": [
    "from typing import Annotated\n",
    "\n",
    "# from langchain_tavily import TavilySearch\n",
    "from langchain_core.tools import tool\n",
    "from typing_extensions import TypedDict\n",
    "\n",
    "from langgraph.checkpoint.memory import MemorySaver\n",
    "from langgraph.graph import StateGraph, START, END\n",
    "from langgraph.graph.message import add_messages\n",
    "from langgraph.prebuilt import ToolNode, tools_condition\n",
    "\n",
    "from langgraph.types import Command, interrupt"
   ]
  },
  {
   "cell_type": "code",
   "execution_count": 3,
   "id": "6335ce0b",
   "metadata": {},
   "outputs": [],
   "source": [
    "class State(TypedDict):\n",
    "    messages : Annotated[list, add_messages]\n",
    "    subject: str\n",
    "graph_builder = StateGraph(State)"
   ]
  },
  {
   "cell_type": "code",
   "execution_count": 4,
   "id": "110e55d1",
   "metadata": {},
   "outputs": [],
   "source": [
    "def write_email(state: State):\n",
    "    \"\"\"Write an email for the user according to the given information.\"\"\"\n",
    "    user_message = state['subject']  # Direct from input, works on first node\n",
    "    response = llm.invoke(f\"Write an email about: {user_message}\")\n",
    "    return {\"messages\": [response]}  # Message added to messages field"
   ]
  },
  {
   "cell_type": "code",
   "execution_count": 5,
   "id": "3ac4ab99",
   "metadata": {},
   "outputs": [
    {
     "data": {
      "text/plain": [
       "<langgraph.graph.state.StateGraph at 0x24ec5158df0>"
      ]
     },
     "execution_count": 5,
     "metadata": {},
     "output_type": "execute_result"
    }
   ],
   "source": [
    "graph_builder.add_node(\"write_email\", write_email)"
   ]
  },
  {
   "cell_type": "code",
   "execution_count": 6,
   "id": "35b77c73",
   "metadata": {},
   "outputs": [
    {
     "data": {
      "text/plain": [
       "<langgraph.graph.state.StateGraph at 0x24ec5158df0>"
      ]
     },
     "execution_count": 6,
     "metadata": {},
     "output_type": "execute_result"
    }
   ],
   "source": [
    "graph_builder.set_entry_point(\"write_email\")"
   ]
  },
  {
   "cell_type": "code",
   "execution_count": 7,
   "id": "94704533",
   "metadata": {},
   "outputs": [],
   "source": [
    "chain = graph_builder.compile()"
   ]
  },
  {
   "cell_type": "code",
   "execution_count": 8,
   "id": "d1172ed5",
   "metadata": {},
   "outputs": [
    {
     "data": {
      "image/png": "[encoded data removed]",
      "text/plain": [
       "<IPython.core.display.Image object>"
      ]
     },
     "metadata": {},
     "output_type": "display_data"
    }
   ],
   "source": [
    "from IPython.display import Image, display\n",
    "display(Image(chain.get_graph().draw_mermaid_png()))"
   ]
  },
  {
   "cell_type": "code",
   "execution_count": null,
   "id": "1d1b6160",
   "metadata": {},
   "outputs": [
    {
     "name": "stdout",
     "output_type": "stream",
     "text": [
      "Assistant: Subject: Referral for [Internship Name] - [Candidate Name]\n",
      "\n",
      "Dear [Manager's Name],\n",
      "\n",
      "I hope this email finds you well.\n",
      "\n",
      "I'm writing to refer [Candidate Name] for the [Internship Name] internship position. I believe [he/she/they] would be a valuable asset to the team.\n",
      "\n",
      "I know [Candidate Name] through [How you know the candidate - e.g., university coursework, a mutual friend, a previous project].  During [mention the context where you know the candidate], I was particularly impressed by [his/her/their] [mention specific skills or qualities - e.g., strong problem-solving abilities, excellent communication skills, enthusiasm for learning, specific technical skill like Python or Data Analysis].\n",
      "\n",
      "Specifically, [Provide a concrete example of the candidate demonstrating the skill you mentioned. E.g., \"In our group project for [Course Name], [he/she/they] took the lead on [specific task] and demonstrated a strong understanding of [relevant concept].\" or \"During our collaboration on [Project Name], I was impressed by [his/her/their] ability to clearly explain complex concepts to our team members.\"].\n",
      "\n",
      "[Candidate Name] is also [Mention other relevant qualities - e.g., a highly motivated individual, a quick learner, a team player]. I believe these qualities, combined with [his/her/their] [mention relevant skills again], make [him/her/them] a strong candidate for this internship.\n",
      "\n",
      "I've attached [Candidate Name]'s resume for your review. Please let me know if you have any questions or would like to discuss this further.\n",
      "\n",
      "Thank you for your time and consideration.\n",
      "\n",
      "Sincerely,\n",
      "\n",
      "[Your Name]\n",
      "[Your Job Title]\n",
      "[Your Contact Information]\n"
     ]
    }
   ],
   "source": [
    "user_input = input()\n",
    "# input(\"write an email for refering an intern to the manager? \")\n",
    "result = chain.invoke({\"subject\": user_input})\n",
    "print(\"Assistant:\", result[\"messages\"][-1].content)"
   ]
  },
  {
   "cell_type": "code",
   "execution_count": null,
   "id": "cc6e39ff",
   "metadata": {},
   "outputs": [],
   "source": []
  }
 ],
 "metadata": {
  "kernelspec": {
   "display_name": "myenv",
   "language": "python",
   "name": "python3"
  },
  "language_info": {
   "codemirror_mode": {
    "name": "ipython",
    "version": 3
   },
   "file_extension": ".py",
   "mimetype": "text/x-python",
   "name": "python",
   "nbconvert_exporter": "python",
   "pygments_lexer": "ipython3",
   "version": "3.10.0"
  }
 },
 "nbformat": 4,
 "nbformat_minor": 5
}
